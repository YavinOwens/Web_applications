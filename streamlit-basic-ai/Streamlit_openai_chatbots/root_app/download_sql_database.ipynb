{
 "cells": [
  {
   "cell_type": "code",
   "execution_count": 15,
   "metadata": {},
   "outputs": [
    {
     "name": "stdout",
     "output_type": "stream",
     "text": [
      "Downloaded Chinook_MySql_AutoIncrementPKs.sql\n",
      "Downloaded Chinook_SqlServer_AutoIncrementPKs.sql\n",
      "Downloaded Chinook_PostgreSql_AutoIncrementPKs.sql\n",
      "Downloaded Chinook_Sqlite_AutoIncrementPKs.sql\n",
      "Downloaded Chinook_SqlServer.sql\n",
      "Downloaded Chinook_PostgreSql_SerialPKs.sql\n",
      "Downloaded Chinook_MySql.sql\n",
      "Downloaded Chinook_Db2.sql\n",
      "Downloaded Chinook_Oracle.sql\n",
      "Downloaded Chinook_PostgreSql.sql\n",
      "Downloaded Chinook_Sqlite.sql\n"
     ]
    }
   ],
   "source": [
    "import os\n",
    "import shutil\n",
    "from git import Repo\n",
    "\n",
    "def download_files_from_github_repo(repo_url, target_subdir, download_path):\n",
    "    # Ensure the download path exists\n",
    "    os.makedirs(download_path, exist_ok=True)\n",
    "\n",
    "    # Clone the repository\n",
    "    repo_dir = \"temp_repo\"\n",
    "    if os.path.exists(repo_dir):\n",
    "        shutil.rmtree(repo_dir)  # Remove if it exists\n",
    "    Repo.clone_from(repo_url, repo_dir)\n",
    "\n",
    "    # Define the source directory for the SQL files\n",
    "    source_dir = os.path.join(repo_dir, target_subdir)\n",
    "\n",
    "    # Copy .sql files from the source directory to the download path\n",
    "    for file_name in os.listdir(source_dir):\n",
    "        if file_name.endswith('.sql'):\n",
    "            full_file_name = os.path.join(source_dir, file_name)\n",
    "            if os.path.isfile(full_file_name):\n",
    "                shutil.copy(full_file_name, download_path)\n",
    "                print(f\"Downloaded {file_name}\")\n",
    "\n",
    "    # Clean up by removing the cloned repository\n",
    "    shutil.rmtree(repo_dir)\n",
    "\n",
    "# Example usage\n",
    "repo_url = \"https://github.com/lerocha/chinook-database.git\"\n",
    "target_subdir = \"ChinookDatabase/DataSources\"\n",
    "download_path = \"downloaded_files\"\n",
    "download_files_from_github_repo(repo_url, target_subdir, download_path)\n"
   ]
  },
  {
   "cell_type": "code",
   "execution_count": 26,
   "metadata": {},
   "outputs": [
    {
     "name": "stdout",
     "output_type": "stream",
     "text": [
      "Downloaded Chinook_MySql_AutoIncrementPKs.sql\n",
      "Downloaded Chinook_SqlServer_AutoIncrementPKs.sql\n",
      "Downloaded Chinook_PostgreSql_AutoIncrementPKs.sql\n",
      "Downloaded Chinook_Sqlite.sqlite\n",
      "Downloaded CreateDb2.bat\n",
      "Downloaded CreatePostgreSql.bat\n",
      "Downloaded CreateSqlServer.bat\n",
      "Downloaded CreateSqlite.bat\n",
      "Downloaded Chinook_Sqlite_AutoIncrementPKs.sql\n",
      "Downloaded Chinook_Sqlite_AutoIncrementPKs.sqlite\n",
      "Downloaded Chinook_SqlServer.sql\n",
      "Downloaded CreateMySql.bat\n",
      "Downloaded Chinook_PostgreSql_SerialPKs.sql\n",
      "Downloaded Chinook_MySql.sql\n",
      "Downloaded Chinook_Db2.sql\n",
      "Downloaded Chinook_Oracle.sql\n",
      "Downloaded Chinook_PostgreSql.sql\n",
      "Downloaded Chinook_Sqlite.sql\n",
      "Downloaded CreateOracle.bat\n"
     ]
    }
   ],
   "source": [
    "import os\n",
    "import shutil\n",
    "import sqlite3\n",
    "import subprocess\n",
    "from git import Repo\n",
    "\n",
    "def download_files_from_github_repo(repo_url, target_subdir, download_path, file_extensions=['.sql', '.bat', '.sqlite', '.db']):\n",
    "    # Ensure the download path exists\n",
    "    os.makedirs(download_path, exist_ok=True)\n",
    "\n",
    "    # Clone the repository\n",
    "    repo_dir = \"temp_repo\"\n",
    "    if os.path.exists(repo_dir):\n",
    "        shutil.rmtree(repo_dir)  # Remove if it exists\n",
    "    Repo.clone_from(repo_url, repo_dir)\n",
    "\n",
    "    # Define the source directory for the target files\n",
    "    source_dir = os.path.join(repo_dir, target_subdir)\n",
    "\n",
    "    # Copy target files from the source directory to the download path\n",
    "    for file_name in os.listdir(source_dir):\n",
    "        if any(file_name.endswith(ext) for ext in file_extensions):\n",
    "            full_file_name = os.path.join(source_dir, file_name)\n",
    "            if os.path.isfile(full_file_name):\n",
    "                shutil.copy(full_file_name, download_path)\n",
    "                print(f\"Downloaded {file_name}\")\n",
    "\n",
    "    # Clean up by removing the cloned repository\n",
    "    shutil.rmtree(repo_dir)\n",
    "\n",
    "repo_url = \"https://github.com/lerocha/chinook-database.git\"\n",
    "target_subdir = \"ChinookDatabase/DataSources\"\n",
    "download_path = \"downloaded_files\"\n",
    "databases_path = \"database_dummy_data\"\n",
    "\n",
    "# Download the SQL, BAT, SQLITE, and DB files from the GitHub repository\n",
    "download_files_from_github_repo(repo_url, target_subdir, download_path, file_extensions=['.bat'])"
   ]
  }
 ],
 "metadata": {
  "kernelspec": {
   "display_name": ".venv",
   "language": "python",
   "name": "python3"
  },
  "language_info": {
   "codemirror_mode": {
    "name": "ipython",
    "version": 3
   },
   "file_extension": ".py",
   "mimetype": "text/x-python",
   "name": "python",
   "nbconvert_exporter": "python",
   "pygments_lexer": "ipython3",
   "version": "3.10.13"
  }
 },
 "nbformat": 4,
 "nbformat_minor": 2
}
