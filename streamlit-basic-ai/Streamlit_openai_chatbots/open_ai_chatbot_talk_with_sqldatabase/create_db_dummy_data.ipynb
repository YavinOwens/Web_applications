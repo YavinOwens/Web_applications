{
 "cells": [
  {
   "cell_type": "code",
   "execution_count": null,
   "metadata": {},
   "outputs": [],
   "source": [
    "import pandas as pd\n",
    "from faker import Faker\n",
    "import random\n",
    "\n",
    "# Initialize Faker\n",
    "fake = Faker()\n",
    "\n",
    "# Define number of records\n",
    "num_records = 100"
   ]
  },
  {
   "cell_type": "markdown",
   "metadata": {},
   "source": [
    "Generating Dummy Data:\n",
    "\n",
    "Uses Faker to generate random data for 100 employees.\n",
    "Creates a pandas DataFrame from the generated data.\n",
    "Saves the DataFrame to a CSV file (hr_records.csv)."
   ]
  },
  {
   "cell_type": "code",
   "execution_count": null,
   "metadata": {},
   "outputs": [],
   "source": [
    "# Generate dummy data\n",
    "data = {\n",
    "    'EmployeeID': [i for i in range(1, num_records + 1)],\n",
    "    'FirstName': [fake.first_name() for _ in range(num_records)],\n",
    "    'LastName': [fake.last_name() for _ in range(num_records)],\n",
    "    'Age': [random.randint(20, 60) for _ in range(num_records)],\n",
    "    'Gender': [random.choice(['Male', 'Female']) for _ in range(num_records)],\n",
    "    'Department': [random.choice(['HR', 'IT', 'Finance', 'Marketing', 'Sales']) for _ in range(num_records)],\n",
    "    'Salary': [round(random.uniform(30000, 120000), 2) for _ in range(num_records)],\n",
    "    'HireDate': [fake.date_between(start_date='-10y', end_date='today') for _ in range(num_records)],\n",
    "    'Email': [fake.email() for _ in range(num_records)]\n",
    "}\n",
    "\n",
    "# Create DataFrame\n",
    "df = pd.DataFrame(data)\n",
    "\n",
    "# Save DataFrame to CSV\n",
    "df.to_csv('open_ai_chatbot_talk_with_sqldatabase/data/hr_records.csv', index=False)\n",
    "\n",
    "print(\"Dummy HR data generated and saved to hr_records.csv\")"
   ]
  },
  {
   "cell_type": "markdown",
   "metadata": {},
   "source": [
    "Creating SQLite Database:\n",
    "\n",
    "Defines a SQLite database filename (hr_database.db).\n",
    "Uses SQLAlchemy to create a SQLite engine.\n",
    "Defines the Employee table using SQLAlchemy ORM.\n",
    "Creates the table in the SQLite database.\n",
    "Converts the DataFrame to a list of dictionaries.\n",
    "Inserts the records into the employees table.\n",
    "Commits the transaction and closes the session.\n"
   ]
  },
  {
   "cell_type": "code",
   "execution_count": null,
   "metadata": {},
   "outputs": [],
   "source": [
    "import sqlite3\n",
    "from sqlalchemy import create_engine, Column, Integer, String, Float, Date, MetaData, Table, inspect, text\n",
    "# from sqlalchemy.ext.declarative import declarative_base\n",
    "from sqlalchemy.orm import sessionmaker, declarative_base"
   ]
  },
  {
   "cell_type": "code",
   "execution_count": null,
   "metadata": {},
   "outputs": [],
   "source": [
    "# Define the SQLite database file name\n",
    "database_filename = 'open_ai_chatbot_talk_with_sqldatabase/data/hr_database.db'\n",
    "\n",
    "# Create SQLite engine\n",
    "engine = create_engine(f'sqlite:///{database_filename}', echo=True)\n",
    "\n",
    "# Define a base class for the ORM\n",
    "Base = declarative_base()\n",
    "\n",
    "# Define the Employee table as an ORM class\n",
    "class Employee(Base):\n",
    "    __tablename__ = 'employees'\n",
    "    EmployeeID = Column(Integer, primary_key=True, autoincrement=True)\n",
    "    FirstName = Column(String)\n",
    "    LastName = Column(String)\n",
    "    Age = Column(Integer)\n",
    "    Gender = Column(String)\n",
    "    Department = Column(String)\n",
    "    Salary = Column(Float)\n",
    "    HireDate = Column(Date)\n",
    "    Email = Column(String)\n",
    "\n",
    "# Create the table in the database\n",
    "Base.metadata.create_all(engine)\n",
    "\n",
    "# Create a session\n",
    "Session = sessionmaker(bind=engine)\n",
    "session = Session()\n",
    "\n",
    "# Convert DataFrame to list of dictionaries and remove EmployeeID\n",
    "records = df.drop(columns=['EmployeeID']).to_dict(orient='records')\n",
    "\n",
    "# Insert records into the database\n",
    "for record in records:\n",
    "    employee = Employee(**record)\n",
    "    session.add(employee)\n",
    "\n",
    "# Commit the transaction\n",
    "session.commit()\n",
    "\n",
    "print(f\"Database '{database_filename}' created and records inserted.\")\n"
   ]
  },
  {
   "cell_type": "code",
   "execution_count": null,
   "metadata": {},
   "outputs": [],
   "source": [
    "# Function to show table names\n",
    "def show_table_names():\n",
    "    try:\n",
    "        inspector = inspect(engine)\n",
    "        tables = inspector.get_table_names()\n",
    "        print(\"Tables in the database:\")\n",
    "        for table in tables:\n",
    "            print(table)\n",
    "    except Exception as e:\n",
    "        print(f\"An error occurred while fetching table names: {e}\")\n",
    "    \n",
    "show_table_names()"
   ]
  },
  {
   "cell_type": "code",
   "execution_count": null,
   "metadata": {},
   "outputs": [],
   "source": [
    "# Test the connection by reading from the database\n",
    "def test_connection_and_read():\n",
    "    try:\n",
    "        # Test the connection\n",
    "        conn = engine.connect()\n",
    "        print(\"Successfully connected to the database.\")\n",
    "\n",
    "        # Read the contents of the employees table\n",
    "        result = conn.execute(text(\"SELECT * FROM employees\"))\n",
    "\n",
    "        # Print the contents of the table\n",
    "        for row in result:\n",
    "            print(row)\n",
    "\n",
    "        # Close the connection\n",
    "        conn.close()\n",
    "    except Exception as e:\n",
    "        print(f\"An error occurred: {e}\")\n",
    "\n",
    "# Run the test function\n",
    "test_connection_and_read()\n",
    "\n",
    "# Close the session\n",
    "session.close()"
   ]
  }
 ],
 "metadata": {
  "kernelspec": {
   "display_name": ".venv",
   "language": "python",
   "name": "python3"
  },
  "language_info": {
   "codemirror_mode": {
    "name": "ipython",
    "version": 3
   },
   "file_extension": ".py",
   "mimetype": "text/x-python",
   "name": "python",
   "nbconvert_exporter": "python",
   "pygments_lexer": "ipython3",
   "version": "3.10.13"
  }
 },
 "nbformat": 4,
 "nbformat_minor": 2
}
